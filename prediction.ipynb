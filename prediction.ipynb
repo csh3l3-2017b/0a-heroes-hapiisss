{
 "cells": [
  {
   "cell_type": "code",
   "execution_count": 28,
   "metadata": {
    "scrolled": false
   },
   "outputs": [
    {
     "name": "stdout",
     "output_type": "stream",
     "text": [
      "['Layla', 'MARKSMAN']\n",
      "['Cyclops', 'MAGE']\n",
      "['Minotaur', 'TANK']\n",
      "['Saber', 'ASSASSIN']\n",
      "['Roger', 'FIGHTER']\n",
      "['Nana', 'SUPPORT']\n",
      "['Akai', 'FIGHTER']\n",
      "['Alice', 'SUPPORT']\n",
      "['Alpha', 'ASSASSIN']\n",
      "['Alucard', 'FIGHTER']\n",
      "['Argus', 'ASSASSIN']\n",
      "['Aurora', 'MAGE']\n",
      "['Balmond', 'FIGHTER']\n",
      "['Bane', 'FIGHTER']\n",
      "['Bruno', 'SUPPORT']\n",
      "['Chou', 'ASSASSIN']\n",
      "['Clint', 'ASSASSIN']\n",
      "['Diggie', 'SUPPORT']\n",
      "['Estes', 'MAGE']\n",
      "['Eudora', 'SUPPORT']\n",
      "['Fanny', 'MARKSMAN']\n",
      "['Franco', 'TANK']\n",
      "['Freya', 'FIGHTER']\n",
      "['Gatotkaca', 'FIGHTER']\n",
      "['Gord', 'MAGE']\n",
      "['Grock', 'ASSASSIN']\n",
      "['Harley', 'SUPPORT']\n",
      "['Hayabusa', 'SUPPORT']\n",
      "['Helcur', 'ASSASSIN']\n",
      "['Hilda', 'ASSASSIN']\n",
      "['Hylos', 'FIGHTER']\n",
      "['Irithel', 'SUPPORT']\n",
      "['Johnson', 'TANK']\n",
      "['Kagura', 'MAGE']\n",
      "['Karina', 'ASSASSIN']\n",
      "['Karrie', 'SUPPORT']\n",
      "['Lancelot', 'ASSASSIN']\n",
      "['Lapu-lapu', 'FIGHTER']\n",
      "['Lolita', 'TANK']\n",
      "['Miya', 'SUPPORT']\n",
      "['Moskov', 'ASSASSIN']\n",
      "['Natalia', 'ASSASSIN']\n",
      "['Odette', 'SUPPORT']\n",
      "['Pharsa', 'SUPPORT']\n",
      "['Rafaela', 'MAGE']\n",
      "['Ruby', 'FIGHTER']\n",
      "['Sun Wukong', 'FIGHTER']\n",
      "['Tigreal', 'TANK']\n",
      "['Vexana', 'SUPPORT']\n",
      "['Yi Sun-Shin', 'SUPPORT']\n",
      "['Yun Zhao', 'MARKSMAN']\n",
      "['Zhask', 'SUPPORT']\n"
     ]
    }
   ],
   "source": [
    "# import pandas as pd\n",
    "# import numpy as np\n",
    "# import matplotlib.pyplot as plt\n",
    "import csv\n",
    "\n",
    "#todo: Read train.csv dan menyimpannya dalam listdata\n",
    "with open('test.csv', 'r') as f:\n",
    "  reader = csv.reader(f)\n",
    "  list_data = list(reader)\n",
    "\n",
    "output = [['name', 'role']]\n",
    "    \n",
    "for i in range (1,len(list_data)):\n",
    "    \n",
    "    \n",
    "    x = (list_data[i])\n",
    "#     print (x)\n",
    "\n",
    "\n",
    "    move_speed = int(x[1])\n",
    "    mana = int(x[5])\n",
    "    armor = int(x[3])\n",
    "    physical_attack = int(x[2])\n",
    "    hp = int(x[4])\n",
    "    \n",
    "    if (move_speed >= 270):\n",
    "        result = [x[0], 'MARKSMAN']\n",
    "    elif mana >= 500:\n",
    "        result = [x[0], 'MAGE']\n",
    "    elif armor >= 25 :\n",
    "        result = [x[0], 'TANK']\n",
    "    elif physical_attack >= 121 :\n",
    "        result = [x[0], 'ASSASSIN']\n",
    "    elif hp >= 2580 :\n",
    "        result = [x[0], 'FIGHTER']\n",
    "    else :\n",
    "        result = [x[0], 'SUPPORT']\n",
    "    \n",
    "    output.append(result)\n",
    "    \n",
    "# test list output\n",
    "for i in output[1:]:\n",
    "    print (i)\n",
    "\n",
    "with open('prediction.csv', 'w', newline='') as filecsv:\n",
    "    datafile = csv.writer(filecsv,delimiter=',')\n",
    "    datafile.writerows(output)"
   ]
  },
  {
   "cell_type": "code",
   "execution_count": null,
   "metadata": {
    "collapsed": true
   },
   "outputs": [],
   "source": []
  },
  {
   "cell_type": "code",
   "execution_count": null,
   "metadata": {
    "collapsed": true
   },
   "outputs": [],
   "source": []
  }
 ],
 "metadata": {
  "kernelspec": {
   "display_name": "Python 3",
   "language": "python",
   "name": "python3"
  },
  "language_info": {
   "codemirror_mode": {
    "name": "ipython",
    "version": 3
   },
   "file_extension": ".py",
   "mimetype": "text/x-python",
   "name": "python",
   "nbconvert_exporter": "python",
   "pygments_lexer": "ipython3",
   "version": "3.6.3"
  }
 },
 "nbformat": 4,
 "nbformat_minor": 2
}
