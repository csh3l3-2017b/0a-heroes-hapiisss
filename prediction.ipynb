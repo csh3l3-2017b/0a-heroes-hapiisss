{
 "cells": [
  {
   "cell_type": "markdown",
   "metadata": {
    "scrolled": false
   },
   "source": [
    "Tugas 0A - TelU Legends Heroes\n",
    "\n",
    "IF 39-02 Muhamad Hafizh Fajar Perdana (1301150072)"
   ]
  },
  {
   "cell_type": "markdown",
   "metadata": {},
   "source": [
    "Untuk meng-import data pada file berupa csv, maka diperlukan Library pada Jupyter Notebook yaitu import"
   ]
  },
  {
   "cell_type": "code",
   "execution_count": 1,
   "metadata": {
    "scrolled": true
   },
   "outputs": [
    {
     "name": "stdout",
     "output_type": "stream",
     "text": [
      "['Layla', 'MARKSMAN']\n",
      "['Cyclops', 'MAGE']\n",
      "['Minotaur', 'TANK']\n",
      "['Saber', 'ASSASSIN']\n",
      "['Roger', 'FIGHTER']\n",
      "['Nana', 'SUPPORT']\n",
      "['Akai', 'FIGHTER']\n",
      "['Alice', 'SUPPORT']\n",
      "['Alpha', 'ASSASSIN']\n",
      "['Alucard', 'FIGHTER']\n",
      "['Argus', 'ASSASSIN']\n",
      "['Aurora', 'MAGE']\n",
      "['Balmond', 'FIGHTER']\n",
      "['Bane', 'FIGHTER']\n",
      "['Bruno', 'SUPPORT']\n",
      "['Chou', 'ASSASSIN']\n",
      "['Clint', 'ASSASSIN']\n",
      "['Diggie', 'SUPPORT']\n",
      "['Estes', 'MAGE']\n",
      "['Eudora', 'SUPPORT']\n",
      "['Fanny', 'MARKSMAN']\n",
      "['Franco', 'TANK']\n",
      "['Freya', 'FIGHTER']\n",
      "['Gatotkaca', 'FIGHTER']\n",
      "['Gord', 'MAGE']\n",
      "['Grock', 'ASSASSIN']\n",
      "['Harley', 'SUPPORT']\n",
      "['Hayabusa', 'SUPPORT']\n",
      "['Helcur', 'ASSASSIN']\n",
      "['Hilda', 'ASSASSIN']\n",
      "['Hylos', 'FIGHTER']\n",
      "['Irithel', 'SUPPORT']\n",
      "['Johnson', 'TANK']\n",
      "['Kagura', 'MAGE']\n",
      "['Karina', 'ASSASSIN']\n",
      "['Karrie', 'SUPPORT']\n",
      "['Lancelot', 'ASSASSIN']\n",
      "['Lapu-lapu', 'FIGHTER']\n",
      "['Lolita', 'TANK']\n",
      "['Miya', 'SUPPORT']\n",
      "['Moskov', 'ASSASSIN']\n",
      "['Natalia', 'ASSASSIN']\n",
      "['Odette', 'SUPPORT']\n",
      "['Pharsa', 'SUPPORT']\n",
      "['Rafaela', 'MAGE']\n",
      "['Ruby', 'FIGHTER']\n",
      "['Sun Wukong', 'FIGHTER']\n",
      "['Tigreal', 'TANK']\n",
      "['Vexana', 'SUPPORT']\n",
      "['Yi Sun-Shin', 'SUPPORT']\n",
      "['Yun Zhao', 'MARKSMAN']\n",
      "['Zhask', 'SUPPORT']\n"
     ]
    }
   ],
   "source": [
    "import csv"
   ]
  },
  {
   "cell_type": "markdown",
   "metadata": {
    "collapsed": true
   },
   "source": [
    "Untuk memilih file untuk dibaca di Jupyter Notebook, maka perlu ditunjuk, dibuka dan dibaca. Maka diperlukan variable penampung untuk file yang telah ditunjuk, dibuka dan dibaca. Lalu Objek dijadikan List."
   ]
  },
  {
   "cell_type": "code",
   "execution_count": null,
   "metadata": {
    "collapsed": true
   },
   "outputs": [],
   "source": [
    "#todo: Read train.csv dan menyimpannya dalam listdata\n",
    "with open('test.csv', 'r') as f:\n",
    "  reader = csv.reader(f)\n",
    "  list_data = list(reader)"
   ]
  },
  {
   "cell_type": "markdown",
   "metadata": {},
   "source": [
    "Lalu membuat Header dengan nama 'Name' dan 'Role' "
   ]
  },
  {
   "cell_type": "code",
   "execution_count": null,
   "metadata": {
    "collapsed": true
   },
   "outputs": [],
   "source": [
    "output = [['name', 'role']]"
   ]
  },
  {
   "cell_type": "markdown",
   "metadata": {},
   "source": [
    "Lalu dilakukan iterasi dari 1 sampai panjang data yang ada di file csv yang telah dibaca."
   ]
  },
  {
   "cell_type": "code",
   "execution_count": null,
   "metadata": {
    "collapsed": true
   },
   "outputs": [],
   "source": [
    "for i in range (1,len(list_data)):"
   ]
  },
  {
   "cell_type": "markdown",
   "metadata": {},
   "source": [
    "Terdapat variable penampung untuk data yang ada di file csv yang telah dibaca."
   ]
  },
  {
   "cell_type": "code",
   "execution_count": null,
   "metadata": {
    "collapsed": true
   },
   "outputs": [],
   "source": [
    "    x = (list_data[i])"
   ]
  },
  {
   "cell_type": "markdown",
   "metadata": {},
   "source": [
    "Terdapat variable penampung dari Movement Speed, Mana, Armor, Physical Attack, dan HP yang telah dibaca dari file csv, lalu diubah menjadi Interger, karena sebelumnya berupa String"
   ]
  },
  {
   "cell_type": "code",
   "execution_count": null,
   "metadata": {
    "collapsed": true
   },
   "outputs": [],
   "source": [
    "    move_speed = int(x[1])\n",
    "    mana = int(x[5])\n",
    "    armor = int(x[3])\n",
    "    physical_attack = int(x[2])\n",
    "    hp = int(x[4])"
   ]
  },
  {
   "cell_type": "markdown",
   "metadata": {},
   "source": [
    "Lalu dilakukan perbandingan data dari file csv dengan syarat-syarat sebagai berikut :\n",
    "1. Heroes yang memiliki movementSpeed >= 270, akan mendapat peran sebagai MARKSMAN (huruf kapital semua)\n",
    "2. Heroes dengan mana >= 500, akan mendapat peran sebagai MAGE (huruf kapital semua)\n",
    "3. Heroes dengan armor >= 25, akan mendapat peran sebagai TANK (huruf kapital semua)\n",
    "4. Heroes dengan physicalAttack >= 121, akan mendapat peran sebagai ASSASSIN (huruf kapital semua)\n",
    "5. Heroes dengan hp >= 2580, akan mendapat peran sebagai FIGHTER (huruf kapital semua)\n",
    "6. Heroes lainnya akan mendapat peran sebagai SUPPORT (huruf kapital semua)"
   ]
  },
  {
   "cell_type": "code",
   "execution_count": null,
   "metadata": {
    "collapsed": true
   },
   "outputs": [],
   "source": [
    "    if (move_speed >= 270):\n",
    "        result = [x[0], 'MARKSMAN']\n",
    "    elif mana >= 500:\n",
    "        result = [x[0], 'MAGE']\n",
    "    elif armor >= 25 :\n",
    "        result = [x[0], 'TANK']\n",
    "    elif physical_attack >= 121 :\n",
    "        result = [x[0], 'ASSASSIN']\n",
    "    elif hp >= 2580 :\n",
    "        result = [x[0], 'FIGHTER']\n",
    "    else :\n",
    "        result = [x[0], 'SUPPORT']"
   ]
  },
  {
   "cell_type": "markdown",
   "metadata": {},
   "source": [
    "'Result' adalah hasil dari perbandingan file csv dengan syarat-syarat yang telah diberikan. Lalu dibuatlah List dengan nama     'Output' untuk menampung hasil dari kumpulan 'Result'."
   ]
  },
  {
   "cell_type": "code",
   "execution_count": null,
   "metadata": {
    "collapsed": true
   },
   "outputs": [],
   "source": [
    "    output.append(result)"
   ]
  },
  {
   "cell_type": "markdown",
   "metadata": {},
   "source": [
    "Lalu List hasil yang telah didapatkan, dioutputkan menjadi 'prediction.csv'."
   ]
  },
  {
   "cell_type": "code",
   "execution_count": null,
   "metadata": {
    "collapsed": true
   },
   "outputs": [],
   "source": [
    "with open('prediction.csv', 'w', newline='') as filecsv:\n",
    "    datafile = csv.writer(filecsv,delimiter=',')\n",
    "    datafile.writerows(output)"
   ]
  },
  {
   "cell_type": "markdown",
   "metadata": {},
   "source": [
    "Untuk mengetest apakah hasil yang diinginkan sudah keluar, maka dilakukan perintah print untuk menampilkan hasil yang ada didalam List 'Output'"
   ]
  },
  {
   "cell_type": "code",
   "execution_count": 2,
   "metadata": {},
   "outputs": [
    {
     "name": "stdout",
     "output_type": "stream",
     "text": [
      "['Layla', 'MARKSMAN']\n",
      "['Cyclops', 'MAGE']\n",
      "['Minotaur', 'TANK']\n",
      "['Saber', 'ASSASSIN']\n",
      "['Roger', 'FIGHTER']\n",
      "['Nana', 'SUPPORT']\n",
      "['Akai', 'FIGHTER']\n",
      "['Alice', 'SUPPORT']\n",
      "['Alpha', 'ASSASSIN']\n",
      "['Alucard', 'FIGHTER']\n",
      "['Argus', 'ASSASSIN']\n",
      "['Aurora', 'MAGE']\n",
      "['Balmond', 'FIGHTER']\n",
      "['Bane', 'FIGHTER']\n",
      "['Bruno', 'SUPPORT']\n",
      "['Chou', 'ASSASSIN']\n",
      "['Clint', 'ASSASSIN']\n",
      "['Diggie', 'SUPPORT']\n",
      "['Estes', 'MAGE']\n",
      "['Eudora', 'SUPPORT']\n",
      "['Fanny', 'MARKSMAN']\n",
      "['Franco', 'TANK']\n",
      "['Freya', 'FIGHTER']\n",
      "['Gatotkaca', 'FIGHTER']\n",
      "['Gord', 'MAGE']\n",
      "['Grock', 'ASSASSIN']\n",
      "['Harley', 'SUPPORT']\n",
      "['Hayabusa', 'SUPPORT']\n",
      "['Helcur', 'ASSASSIN']\n",
      "['Hilda', 'ASSASSIN']\n",
      "['Hylos', 'FIGHTER']\n",
      "['Irithel', 'SUPPORT']\n",
      "['Johnson', 'TANK']\n",
      "['Kagura', 'MAGE']\n",
      "['Karina', 'ASSASSIN']\n",
      "['Karrie', 'SUPPORT']\n",
      "['Lancelot', 'ASSASSIN']\n",
      "['Lapu-lapu', 'FIGHTER']\n",
      "['Lolita', 'TANK']\n",
      "['Miya', 'SUPPORT']\n",
      "['Moskov', 'ASSASSIN']\n",
      "['Natalia', 'ASSASSIN']\n",
      "['Odette', 'SUPPORT']\n",
      "['Pharsa', 'SUPPORT']\n",
      "['Rafaela', 'MAGE']\n",
      "['Ruby', 'FIGHTER']\n",
      "['Sun Wukong', 'FIGHTER']\n",
      "['Tigreal', 'TANK']\n",
      "['Vexana', 'SUPPORT']\n",
      "['Yi Sun-Shin', 'SUPPORT']\n",
      "['Yun Zhao', 'MARKSMAN']\n",
      "['Zhask', 'SUPPORT']\n"
     ]
    }
   ],
   "source": [
    "# test list output\n",
    "for i in output[1:]:\n",
    "    print (i)"
   ]
  },
  {
   "cell_type": "code",
   "execution_count": null,
   "metadata": {
    "collapsed": true
   },
   "outputs": [],
   "source": []
  }
 ],
 "metadata": {
  "kernelspec": {
   "display_name": "Python 3",
   "language": "python",
   "name": "python3"
  },
  "language_info": {
   "codemirror_mode": {
    "name": "ipython",
    "version": 3
   },
   "file_extension": ".py",
   "mimetype": "text/x-python",
   "name": "python",
   "nbconvert_exporter": "python",
   "pygments_lexer": "ipython3",
   "version": "3.6.3"
  }
 },
 "nbformat": 4,
 "nbformat_minor": 2
}
